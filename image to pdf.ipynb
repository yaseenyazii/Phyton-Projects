{
 "cells": [
  {
   "cell_type": "code",
   "execution_count": 16,
   "id": "f2af7bcd",
   "metadata": {},
   "outputs": [],
   "source": [
    "from PIL import Image\n",
    "import os"
   ]
  },
  {
   "cell_type": "code",
   "execution_count": 21,
   "id": "137e328f",
   "metadata": {},
   "outputs": [
    {
     "name": "stdout",
     "output_type": "stream",
     "text": [
      "C:\\Users\\MUHAMMED YAZEEN I\\OneDrive\\Desktop\\wp2369710-lionel-messi-2018-wallpapers.pdf\n"
     ]
    }
   ],
   "source": [
    "image=r\"C:\\Users\\MUHAMMED YAZEEN I\\OneDrive\\Desktop\\wp2369710-lionel-messi-2018-wallpapers.jpg\"\n",
    "img=Image.open(image)\n",
    "pdf=r'C:\\Users\\MUHAMMED YAZEEN I\\OneDrive\\Desktop\\wp2369710-lionel-messi-2018-wallpapers.pdf'\n",
    "img.save(pdf,'PDF')\n",
    "img.close()\n",
    "print(pdf)\n"
   ]
  },
  {
   "cell_type": "code",
   "execution_count": null,
   "id": "61b4ba73",
   "metadata": {},
   "outputs": [],
   "source": []
  }
 ],
 "metadata": {
  "kernelspec": {
   "display_name": "Python 3 (ipykernel)",
   "language": "python",
   "name": "python3"
  },
  "language_info": {
   "codemirror_mode": {
    "name": "ipython",
    "version": 3
   },
   "file_extension": ".py",
   "mimetype": "text/x-python",
   "name": "python",
   "nbconvert_exporter": "python",
   "pygments_lexer": "ipython3",
   "version": "3.9.13"
  }
 },
 "nbformat": 4,
 "nbformat_minor": 5
}
