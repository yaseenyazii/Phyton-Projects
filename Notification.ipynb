{
 "cells": [
  {
   "cell_type": "code",
   "execution_count": 2,
   "id": "fc0117ca",
   "metadata": {},
   "outputs": [],
   "source": [
    "from notifypy import Notify"
   ]
  },
  {
   "cell_type": "code",
   "execution_count": 13,
   "id": "ff10bcd8",
   "metadata": {},
   "outputs": [
    {
     "data": {
      "text/plain": [
       "True"
      ]
     },
     "execution_count": 13,
     "metadata": {},
     "output_type": "execute_result"
    }
   ],
   "source": [
    "notification=Notify()\n",
    "notification.title='yazii'\n",
    "notification.message='hi yazii'\n",
    "notification.audio=r\"C:\\Users\\MUHAMMED YAZEEN I\\Downloads\\mixkit-access-allowed-tone-2869.wav\"\n",
    "notification.send()"
   ]
  },
  {
   "cell_type": "code",
   "execution_count": null,
   "id": "77650f42",
   "metadata": {},
   "outputs": [],
   "source": []
  }
 ],
 "metadata": {
  "kernelspec": {
   "display_name": "Python 3 (ipykernel)",
   "language": "python",
   "name": "python3"
  },
  "language_info": {
   "codemirror_mode": {
    "name": "ipython",
    "version": 3
   },
   "file_extension": ".py",
   "mimetype": "text/x-python",
   "name": "python",
   "nbconvert_exporter": "python",
   "pygments_lexer": "ipython3",
   "version": "3.9.13"
  }
 },
 "nbformat": 4,
 "nbformat_minor": 5
}
